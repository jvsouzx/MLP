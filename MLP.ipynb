{
 "cells": [
  {
   "cell_type": "markdown",
   "id": "ce9e990b",
   "metadata": {},
   "source": [
    "# Multilayer Perceptron (MLP)\n",
    "\n",
    "Autor: Jorge Vitor Gonçalves de Souza\n",
    "\n",
    "Implementação de uma rede neural com múltiplas camadas com o objetivo de resolver a porta lógica XOR(OU Exclusivo). "
   ]
  },
  {
   "cell_type": "code",
   "execution_count": 1,
   "id": "4d97bd19",
   "metadata": {},
   "outputs": [],
   "source": [
    "import numpy as np\n",
    "import random\n",
    "import matplotlib.pyplot as plt\n",
    "import statistics"
   ]
  },
  {
   "cell_type": "markdown",
   "id": "0963e6f9",
   "metadata": {},
   "source": [
    "Para implementar o MLP foi necessário utilizar algumas funções de álgebra linear, pois a implementação feita utiliza uma notação de matriz para representar os neurônios e as camadas de neurônios da rede. Assim, foi implementado um método para calcular o produto escalar entre dois vetores, um método para multiplicar um vetor por um escalar(constante) e um método para realizar a soma de dois vetores."
   ]
  },
  {
   "cell_type": "code",
   "execution_count": 2,
   "id": "10b6e678",
   "metadata": {},
   "outputs": [],
   "source": [
    "# produto escalar de dois vetores\n",
    "def dot(v, w):                                             \n",
    "    if len(v) == len(w):\n",
    "        return sum(v_i * w_i for v_i, w_i in zip(v, w))\n",
    "    \n",
    "# multiplica um vetor por um escalar\n",
    "def scalar_multiply(c, v):                                 \n",
    "    return [c * v_i for v_i in v]\n",
    "\n",
    "# soma os elementos correspondentes de dois vetores\n",
    "def add(v, w):                                            \n",
    "    if len(v) == len(w):\n",
    "        return [v_i + w_i for v_i, w_i in zip(v, w)]"
   ]
  },
  {
   "cell_type": "markdown",
   "id": "ad5bfdf5",
   "metadata": {},
   "source": [
    "A função de ativação dos neurônios escolhida foi a sigmoidal, pois a mesma possui uma aproximação suave e precisa."
   ]
  },
  {
   "cell_type": "code",
   "execution_count": 3,
   "id": "d7037ba0",
   "metadata": {},
   "outputs": [],
   "source": [
    "# definição da função sigmoidal\n",
    "def sigmoid(t):                                            \n",
    "    return 1/(1 + np.exp(-t))\n",
    "\n",
    "# calcula a saída de um neurônio\n",
    "def neuron_output(weights, inputs):                        \n",
    "    return sigmoid(dot(weights, inputs))"
   ]
  },
  {
   "cell_type": "markdown",
   "id": "4ac7e9a7",
   "metadata": {},
   "source": [
    "A função feed_forward calcula o valor de saída dos neurônios de todas as camadas da rede."
   ]
  },
  {
   "cell_type": "code",
   "execution_count": 4,
   "id": "21ca3e4b",
   "metadata": {},
   "outputs": [],
   "source": [
    "# retorna as saídas de todas as camadas\n",
    "def feed_forward(neural_network, input_vector):            \n",
    "    outputs = []\n",
    "    # para cada camada da rede\n",
    "    for layer in neural_network:\n",
    "        # concatena o bias à entrada\n",
    "        input_with_bias = input_vector + [1]\n",
    "        # calcula a saída para cada neurônio na camada\n",
    "        output = [neuron_output(neuron, input_with_bias)  \n",
    "                  for neuron in layer]                    \n",
    "        # adiciona ao vetor de saídas\n",
    "        outputs.append(output)\n",
    "        # a entrada da próxima camada é a saída da camada atual\n",
    "        input_vector = output                              \n",
    "    return outputs"
   ]
  },
  {
   "cell_type": "markdown",
   "id": "b5f2cf9f",
   "metadata": {},
   "source": [
    "Os sinais de entrada, $x_1, x_2, ..., x_m$ são propagados através da rede da esquerda para a direita(feed_forward), enquanto os sinais de erro, $e_1, e_2, ..., e_o$ são propagados da direita para a esquerda(backpropagation), ou seja, da camada de saída para a camada de entrada. A propagação dos sinais de erro inicia na camada de saída em direção á camada oculta. Na iteração de treinamento $p$, o sinal de erro na saída do neurônio $k$ é definido por:\n",
    "\n",
    "$e_k(p) = y_Dk(p) − y_k(p)$, \n",
    "\n",
    "onde $y_Dk(p)$ é a saída desejada para o neurônio $k$ na iteração $p$. No caso da camada de saída, a correção em cada peso é similar à da regra Delta, aplicada no Perceptron \n",
    "\n",
    "$w_kj(p + 1) = w_kj(p) + ∆w_kj(p)$,\n",
    "\n",
    "No caso do Perceptron, era usada a entrada do neurônio, $x_i$ , na correção do peso. Mas agora, na rede MLP, as entradas dos neurônios da camada de saída são diferentes das entradas da rede na camada inicial. Então, é empregada a saída do neurônio $j$, da camada oculta, ao invés da entrada $x_i$ \n",
    "\n",
    "$∆w_kj(p) = α.y_j(p).δ_k(p)$,\n",
    "\n",
    "onde $δ_k(p)$ é o gradiente do erro cometido no neurônio $k$ da camada de saída na iteração de treinamento $p$. O gradiente do erro em um dado neurônio da camada de saída é definido como a derivada da função de ativação deste neurônio multiplicada pelo erro em sua saída \n",
    "\n",
    "$δ_k(p) = f′(X_k(p).e(p))$\n",
    "\n",
    "Considerando uma função de ativação sigmoidal unipolar, tem-se\n",
    "\n",
    "$y_k(p) = \\frac {1}{1+e^-X_k(P)} ⇒ y′k(p) = y_k(p).(1 − y_k(p))$\n",
    "\n",
    "e o gradiente se torna \n",
    "\n",
    "$δ_k(p) = y_k(p).(1 − y_k(p)).e(p)$\n",
    "\n",
    "Considerando os neurônios da camada oculta também com funções de ativação sigmoidais unipolares, este gradiente do erro, correspondendo a um dado neurônio $j$ da camada oculta, é \n",
    "\n",
    "$δ_j(p) = y_j(p).(1 − y_j(p)). ∑δ_k(p).w_kj(p)$\n",
    "\n",
    "Para o cálculo das correções nos pesos da camada oculta, é empregada a mesma equação da camada de saída \n",
    "\n",
    "$∆w_ji(p) = α.x_i(p).δ_j(p)$"
   ]
  },
  {
   "cell_type": "code",
   "execution_count": 5,
   "id": "14f3e5bc",
   "metadata": {},
   "outputs": [],
   "source": [
    "def sqerror_gradient(network, input_vector, target_vector):\n",
    "    \n",
    "    # calcula as saídas de todos os neurônios\n",
    "    hidden_outputs, outputs = feed_forward(network, input_vector) \n",
    "    \n",
    "    # calcula os gradientes associados aos neurônios de saída\n",
    "    output_deltas = [output * (1 - output) * (output - target)   \n",
    "                     for output, target in zip(outputs, target_vector)]\n",
    "    \n",
    "    # correção dos pesos dos neurônios de saída\n",
    "    output_grads = [[output_deltas[i] * hidden_output \n",
    "                     for hidden_output in hidden_outputs + [1]]\n",
    "                     for i, output_neuron in enumerate(network[-1])]\n",
    "    \n",
    "    # calcula os gradientes associados aos neurônios das camadas ocultas\n",
    "    hidden_deltas = [hidden_output * (1 - hidden_output) * \n",
    "                     dot(output_deltas, [n[i] for n in network[-1]]) \n",
    "                     for i, hidden_output in enumerate(hidden_outputs)]\n",
    "    \n",
    "    # correção dos pesos dos neurônios das camadas oculta\n",
    "    hidden_grads = [[hidden_deltas[i] * input for input in input_vector + [1]] \n",
    "                    for i, hidden_neuron in enumerate(network[0])]\n",
    "    \n",
    "    return [hidden_grads, output_grads], output_deltas"
   ]
  },
  {
   "cell_type": "markdown",
   "id": "f15f45cc",
   "metadata": {},
   "source": [
    "A função gradient_step realiza um passo de um dado tamanho na direção do gradiente. Mais adiante será utilizada para retropropagar os erros a partir dos gradientes calculados."
   ]
  },
  {
   "cell_type": "code",
   "execution_count": 6,
   "id": "dd408287",
   "metadata": {},
   "outputs": [],
   "source": [
    "# realiza um passo de um dado tamanho(step_size)\n",
    "# na direção do gradiente(gradient) a partir de um vetor(v).\n",
    "def gradient_step(v, gradient, step_size):                  \n",
    "    if len(v) == len(gradient):                            \n",
    "        step = scalar_multiply(step_size, gradient)\n",
    "        return add(v, step)"
   ]
  },
  {
   "cell_type": "markdown",
   "id": "27c64b52",
   "metadata": {},
   "source": [
    "Os pesos são inicializados de forma aleatória dentro do intervalo [-2, 2], e foi utilizada uma taxa de aprendizado de 0.9 em um intervalo de 10000 épocas."
   ]
  },
  {
   "cell_type": "code",
   "execution_count": 7,
   "id": "32de71d6",
   "metadata": {},
   "outputs": [],
   "source": [
    "# Entrada\n",
    "X = [                                                      \n",
    "    [0, 0],\n",
    "    [0, 1],\n",
    "    [1, 0],\n",
    "    [1, 1]\n",
    "]\n",
    "\n",
    "# Saída desejada\n",
    "Y = [                                                      \n",
    "    [0],\n",
    "    [1],\n",
    "    [1],\n",
    "    [0]\n",
    "]\n",
    "\n",
    "# Taxa de aprendizado\n",
    "l_rate = 0.9                                               \n",
    "\n",
    "epochs_con = []\n",
    "\n",
    "for n in range(100):\n",
    "    \n",
    "    # backpropagation\n",
    "    # inicialização aleatória dos pesos\n",
    "    NN = [\n",
    "        [[random.triangular(-0.5, 0.5, 0) for _ in range(2 + 1)],  \n",
    "         [random.triangular(-0.5, 0.5, 0) for _ in range(2 + 1)]], \n",
    "        [[random.triangular(-0.5, 0.5, 0) for _ in range(2 + 1)]]  \n",
    "    ]\n",
    "\n",
    "    erro = []\n",
    "\n",
    "    converged = False\n",
    "\n",
    "    for epoch in range(10000):\n",
    "        # para cada época a partir da camada de saída calcula os gradientes, \n",
    "        # atualiza os pesos e propaga os valores dos erros para as camadas anteriores \n",
    "            for x, y in zip(X, Y):                                   \n",
    "                gradients, out_delta = sqerror_gradient(NN, x, y)\n",
    "                NN = [[gradient_step(neuron, grad, -l_rate)               \n",
    "                      for neuron, grad in zip(layer, layer_grad)]\n",
    "                      for layer, layer_grad in zip(NN, gradients)]\n",
    "\n",
    "            if converged == False:\n",
    "                if(feed_forward(NN, X[0])[-1][0] < 0.1 \n",
    "                   and feed_forward(NN, X[1])[-1][0] > 0.9 \n",
    "                       and feed_forward(NN, X[2])[-1][0] > 0.9 \n",
    "                           and feed_forward(NN, X[3])[-1][0] < 0.1):\n",
    "                    epochs_con.append(epoch)\n",
    "                    converged = True\n",
    "        \n",
    "            erro.append(out_delta)\n",
    "        "
   ]
  },
  {
   "cell_type": "markdown",
   "id": "5ac73e0d",
   "metadata": {},
   "source": [
    "Abaixo é possível conferir o gráfico do erro na camada de saída de acordo com o número de épocas."
   ]
  },
  {
   "cell_type": "code",
   "execution_count": 8,
   "id": "90f5da7e",
   "metadata": {},
   "outputs": [
    {
     "data": {
      "image/png": "[encoded data removed]",
      "text/plain": [
       "<Figure size 1440x360 with 1 Axes>"
      ]
     },
     "metadata": {
      "needs_background": "light"
     },
     "output_type": "display_data"
    }
   ],
   "source": [
    "plt.figure(1, figsize=((20,5)))\n",
    "plt.xlim(0, 10000)\n",
    "plt.plot(erro)\n",
    "plt.show()"
   ]
  },
  {
   "cell_type": "markdown",
   "id": "6fb2e9df",
   "metadata": {},
   "source": [
    "Foi realizado um experimento onde o backpropagation foi executado 100 vezes, abaixo pode-se verificar os dados estatísticos do mesmo."
   ]
  },
  {
   "cell_type": "code",
   "execution_count": 10,
   "id": "a827c825",
   "metadata": {},
   "outputs": [
    {
     "name": "stdout",
     "output_type": "stream",
     "text": [
      "Taxa de Convergência: 81 %\n",
      "Média de épocas para convergir: 1528.7407407407406\n",
      "Desvio Padrão: 824.2714325053637\n"
     ]
    }
   ],
   "source": [
    "print(\"Taxa de Convergência:\", len(epochs_con),\"%\")\n",
    "print(\"Média de épocas para convergir:\", statistics.mean(epochs_con))\n",
    "print(\"Desvio Padrão:\", statistics.stdev(epochs_con))"
   ]
  }
 ],
 "metadata": {
  "kernelspec": {
   "display_name": "Python 3 (ipykernel)",
   "language": "python",
   "name": "python3"
  },
  "language_info": {
   "codemirror_mode": {
    "name": "ipython",
    "version": 3
   },
   "file_extension": ".py",
   "mimetype": "text/x-python",
   "name": "python",
   "nbconvert_exporter": "python",
   "pygments_lexer": "ipython3",
   "version": "3.9.12"
  }
 },
 "nbformat": 4,
 "nbformat_minor": 5
}
